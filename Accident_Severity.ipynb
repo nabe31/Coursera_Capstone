{
  "nbformat": 4,
  "nbformat_minor": 0,
  "metadata": {
    "colab": {
      "name": "Accident Severity.ipynb",
      "provenance": [],
      "collapsed_sections": []
    },
    "kernelspec": {
      "name": "python3",
      "display_name": "Python 3"
    }
  },
  "cells": [
    {
      "cell_type": "markdown",
      "metadata": {
        "id": "85sd8-uT9dGl"
      },
      "source": [
        "# **Coursera Capstone Project**\n",
        "# Accident Severity of Seattle City\n",
        "## 1.Introduction\n",
        "\n",
        "From the vast amount of data available about these incidents, this project tries to predict the severity of an accident by taking into account various dimensions like weather condition, time of the week. It can help a motorist plan his journey for a safer commute.\n",
        "\n",
        "\n",
        "## 2. Data\n",
        "\n",
        "The Data used in this project is SDOT Traffic Management Division, Traffic Records Group. It has the information on all types of collisions provided by SPD and recorded by Traffic Records from 2004-2020, updated weekly.\n",
        "It contains a total of 37 attributes which will help in training the model and give a better prediction. Some of the entries in the data will be omitted to fine tune the model and get a better result."
      ]
    },
    {
      "cell_type": "code",
      "metadata": {
        "id": "JO7O9pbIq1pj"
      },
      "source": [
        "import pandas as pd\n",
        "import numpy as np\n",
        "import seaborn as sns\n",
        "import matplotlib.pyplot as plt\n",
        "%matplotlib inline"
      ],
      "execution_count": 36,
      "outputs": []
    },
    {
      "cell_type": "code",
      "metadata": {
        "id": "TCZMIPbpq-qS",
        "outputId": "e0043f44-977d-49ae-8e33-623d749aa408",
        "colab": {
          "base_uri": "https://localhost:8080/",
          "height": 71
        }
      },
      "source": [
        "df=pd.read_csv(\"https://s3.us.cloud-object-storage.appdomain.cloud/cf-courses-data/CognitiveClass/DP0701EN/version-2/Data-Collisions.csv\")"
      ],
      "execution_count": 37,
      "outputs": [
        {
          "output_type": "stream",
          "text": [
            "/usr/local/lib/python3.6/dist-packages/IPython/core/interactiveshell.py:2718: DtypeWarning: Columns (33) have mixed types.Specify dtype option on import or set low_memory=False.\n",
            "  interactivity=interactivity, compiler=compiler, result=result)\n"
          ],
          "name": "stderr"
        }
      ]
    },
    {
      "cell_type": "code",
      "metadata": {
        "id": "QPyCRQN-r3AZ"
      },
      "source": [
        "pd.set_option('display.max_columns',None)"
      ],
      "execution_count": 38,
      "outputs": []
    },
    {
      "cell_type": "code",
      "metadata": {
        "id": "qsJ1DU9UrmwQ",
        "outputId": "079e4396-7a1b-42ef-ca3d-40cd8b456f4a",
        "colab": {
          "base_uri": "https://localhost:8080/",
          "height": 700
        }
      },
      "source": [
        "df.head()"
      ],
      "execution_count": 39,
      "outputs": [
        {
          "output_type": "execute_result",
          "data": {
            "text/html": [
              "<div>\n",
              "<style scoped>\n",
              "    .dataframe tbody tr th:only-of-type {\n",
              "        vertical-align: middle;\n",
              "    }\n",
              "\n",
              "    .dataframe tbody tr th {\n",
              "        vertical-align: top;\n",
              "    }\n",
              "\n",
              "    .dataframe thead th {\n",
              "        text-align: right;\n",
              "    }\n",
              "</style>\n",
              "<table border=\"1\" class=\"dataframe\">\n",
              "  <thead>\n",
              "    <tr style=\"text-align: right;\">\n",
              "      <th></th>\n",
              "      <th>SEVERITYCODE</th>\n",
              "      <th>X</th>\n",
              "      <th>Y</th>\n",
              "      <th>OBJECTID</th>\n",
              "      <th>INCKEY</th>\n",
              "      <th>COLDETKEY</th>\n",
              "      <th>REPORTNO</th>\n",
              "      <th>STATUS</th>\n",
              "      <th>ADDRTYPE</th>\n",
              "      <th>INTKEY</th>\n",
              "      <th>LOCATION</th>\n",
              "      <th>EXCEPTRSNCODE</th>\n",
              "      <th>EXCEPTRSNDESC</th>\n",
              "      <th>SEVERITYCODE.1</th>\n",
              "      <th>SEVERITYDESC</th>\n",
              "      <th>COLLISIONTYPE</th>\n",
              "      <th>PERSONCOUNT</th>\n",
              "      <th>PEDCOUNT</th>\n",
              "      <th>PEDCYLCOUNT</th>\n",
              "      <th>VEHCOUNT</th>\n",
              "      <th>INCDATE</th>\n",
              "      <th>INCDTTM</th>\n",
              "      <th>JUNCTIONTYPE</th>\n",
              "      <th>SDOT_COLCODE</th>\n",
              "      <th>SDOT_COLDESC</th>\n",
              "      <th>INATTENTIONIND</th>\n",
              "      <th>UNDERINFL</th>\n",
              "      <th>WEATHER</th>\n",
              "      <th>ROADCOND</th>\n",
              "      <th>LIGHTCOND</th>\n",
              "      <th>PEDROWNOTGRNT</th>\n",
              "      <th>SDOTCOLNUM</th>\n",
              "      <th>SPEEDING</th>\n",
              "      <th>ST_COLCODE</th>\n",
              "      <th>ST_COLDESC</th>\n",
              "      <th>SEGLANEKEY</th>\n",
              "      <th>CROSSWALKKEY</th>\n",
              "      <th>HITPARKEDCAR</th>\n",
              "    </tr>\n",
              "  </thead>\n",
              "  <tbody>\n",
              "    <tr>\n",
              "      <th>0</th>\n",
              "      <td>2</td>\n",
              "      <td>-122.323148</td>\n",
              "      <td>47.703140</td>\n",
              "      <td>1</td>\n",
              "      <td>1307</td>\n",
              "      <td>1307</td>\n",
              "      <td>3502005</td>\n",
              "      <td>Matched</td>\n",
              "      <td>Intersection</td>\n",
              "      <td>37475.0</td>\n",
              "      <td>5TH AVE NE AND NE 103RD ST</td>\n",
              "      <td></td>\n",
              "      <td>NaN</td>\n",
              "      <td>2</td>\n",
              "      <td>Injury Collision</td>\n",
              "      <td>Angles</td>\n",
              "      <td>2</td>\n",
              "      <td>0</td>\n",
              "      <td>0</td>\n",
              "      <td>2</td>\n",
              "      <td>2013/03/27 00:00:00+00</td>\n",
              "      <td>3/27/2013 2:54:00 PM</td>\n",
              "      <td>At Intersection (intersection related)</td>\n",
              "      <td>11</td>\n",
              "      <td>MOTOR VEHICLE STRUCK MOTOR VEHICLE, FRONT END ...</td>\n",
              "      <td>NaN</td>\n",
              "      <td>N</td>\n",
              "      <td>Overcast</td>\n",
              "      <td>Wet</td>\n",
              "      <td>Daylight</td>\n",
              "      <td>NaN</td>\n",
              "      <td>NaN</td>\n",
              "      <td>NaN</td>\n",
              "      <td>10</td>\n",
              "      <td>Entering at angle</td>\n",
              "      <td>0</td>\n",
              "      <td>0</td>\n",
              "      <td>N</td>\n",
              "    </tr>\n",
              "    <tr>\n",
              "      <th>1</th>\n",
              "      <td>1</td>\n",
              "      <td>-122.347294</td>\n",
              "      <td>47.647172</td>\n",
              "      <td>2</td>\n",
              "      <td>52200</td>\n",
              "      <td>52200</td>\n",
              "      <td>2607959</td>\n",
              "      <td>Matched</td>\n",
              "      <td>Block</td>\n",
              "      <td>NaN</td>\n",
              "      <td>AURORA BR BETWEEN RAYE ST AND BRIDGE WAY N</td>\n",
              "      <td>NaN</td>\n",
              "      <td>NaN</td>\n",
              "      <td>1</td>\n",
              "      <td>Property Damage Only Collision</td>\n",
              "      <td>Sideswipe</td>\n",
              "      <td>2</td>\n",
              "      <td>0</td>\n",
              "      <td>0</td>\n",
              "      <td>2</td>\n",
              "      <td>2006/12/20 00:00:00+00</td>\n",
              "      <td>12/20/2006 6:55:00 PM</td>\n",
              "      <td>Mid-Block (not related to intersection)</td>\n",
              "      <td>16</td>\n",
              "      <td>MOTOR VEHICLE STRUCK MOTOR VEHICLE, LEFT SIDE ...</td>\n",
              "      <td>NaN</td>\n",
              "      <td>0</td>\n",
              "      <td>Raining</td>\n",
              "      <td>Wet</td>\n",
              "      <td>Dark - Street Lights On</td>\n",
              "      <td>NaN</td>\n",
              "      <td>6354039.0</td>\n",
              "      <td>NaN</td>\n",
              "      <td>11</td>\n",
              "      <td>From same direction - both going straight - bo...</td>\n",
              "      <td>0</td>\n",
              "      <td>0</td>\n",
              "      <td>N</td>\n",
              "    </tr>\n",
              "    <tr>\n",
              "      <th>2</th>\n",
              "      <td>1</td>\n",
              "      <td>-122.334540</td>\n",
              "      <td>47.607871</td>\n",
              "      <td>3</td>\n",
              "      <td>26700</td>\n",
              "      <td>26700</td>\n",
              "      <td>1482393</td>\n",
              "      <td>Matched</td>\n",
              "      <td>Block</td>\n",
              "      <td>NaN</td>\n",
              "      <td>4TH AVE BETWEEN SENECA ST AND UNIVERSITY ST</td>\n",
              "      <td>NaN</td>\n",
              "      <td>NaN</td>\n",
              "      <td>1</td>\n",
              "      <td>Property Damage Only Collision</td>\n",
              "      <td>Parked Car</td>\n",
              "      <td>4</td>\n",
              "      <td>0</td>\n",
              "      <td>0</td>\n",
              "      <td>3</td>\n",
              "      <td>2004/11/18 00:00:00+00</td>\n",
              "      <td>11/18/2004 10:20:00 AM</td>\n",
              "      <td>Mid-Block (not related to intersection)</td>\n",
              "      <td>14</td>\n",
              "      <td>MOTOR VEHICLE STRUCK MOTOR VEHICLE, REAR END</td>\n",
              "      <td>NaN</td>\n",
              "      <td>0</td>\n",
              "      <td>Overcast</td>\n",
              "      <td>Dry</td>\n",
              "      <td>Daylight</td>\n",
              "      <td>NaN</td>\n",
              "      <td>4323031.0</td>\n",
              "      <td>NaN</td>\n",
              "      <td>32</td>\n",
              "      <td>One parked--one moving</td>\n",
              "      <td>0</td>\n",
              "      <td>0</td>\n",
              "      <td>N</td>\n",
              "    </tr>\n",
              "    <tr>\n",
              "      <th>3</th>\n",
              "      <td>1</td>\n",
              "      <td>-122.334803</td>\n",
              "      <td>47.604803</td>\n",
              "      <td>4</td>\n",
              "      <td>1144</td>\n",
              "      <td>1144</td>\n",
              "      <td>3503937</td>\n",
              "      <td>Matched</td>\n",
              "      <td>Block</td>\n",
              "      <td>NaN</td>\n",
              "      <td>2ND AVE BETWEEN MARION ST AND MADISON ST</td>\n",
              "      <td></td>\n",
              "      <td>NaN</td>\n",
              "      <td>1</td>\n",
              "      <td>Property Damage Only Collision</td>\n",
              "      <td>Other</td>\n",
              "      <td>3</td>\n",
              "      <td>0</td>\n",
              "      <td>0</td>\n",
              "      <td>3</td>\n",
              "      <td>2013/03/29 00:00:00+00</td>\n",
              "      <td>3/29/2013 9:26:00 AM</td>\n",
              "      <td>Mid-Block (not related to intersection)</td>\n",
              "      <td>11</td>\n",
              "      <td>MOTOR VEHICLE STRUCK MOTOR VEHICLE, FRONT END ...</td>\n",
              "      <td>NaN</td>\n",
              "      <td>N</td>\n",
              "      <td>Clear</td>\n",
              "      <td>Dry</td>\n",
              "      <td>Daylight</td>\n",
              "      <td>NaN</td>\n",
              "      <td>NaN</td>\n",
              "      <td>NaN</td>\n",
              "      <td>23</td>\n",
              "      <td>From same direction - all others</td>\n",
              "      <td>0</td>\n",
              "      <td>0</td>\n",
              "      <td>N</td>\n",
              "    </tr>\n",
              "    <tr>\n",
              "      <th>4</th>\n",
              "      <td>2</td>\n",
              "      <td>-122.306426</td>\n",
              "      <td>47.545739</td>\n",
              "      <td>5</td>\n",
              "      <td>17700</td>\n",
              "      <td>17700</td>\n",
              "      <td>1807429</td>\n",
              "      <td>Matched</td>\n",
              "      <td>Intersection</td>\n",
              "      <td>34387.0</td>\n",
              "      <td>SWIFT AVE S AND SWIFT AV OFF RP</td>\n",
              "      <td>NaN</td>\n",
              "      <td>NaN</td>\n",
              "      <td>2</td>\n",
              "      <td>Injury Collision</td>\n",
              "      <td>Angles</td>\n",
              "      <td>2</td>\n",
              "      <td>0</td>\n",
              "      <td>0</td>\n",
              "      <td>2</td>\n",
              "      <td>2004/01/28 00:00:00+00</td>\n",
              "      <td>1/28/2004 8:04:00 AM</td>\n",
              "      <td>At Intersection (intersection related)</td>\n",
              "      <td>11</td>\n",
              "      <td>MOTOR VEHICLE STRUCK MOTOR VEHICLE, FRONT END ...</td>\n",
              "      <td>NaN</td>\n",
              "      <td>0</td>\n",
              "      <td>Raining</td>\n",
              "      <td>Wet</td>\n",
              "      <td>Daylight</td>\n",
              "      <td>NaN</td>\n",
              "      <td>4028032.0</td>\n",
              "      <td>NaN</td>\n",
              "      <td>10</td>\n",
              "      <td>Entering at angle</td>\n",
              "      <td>0</td>\n",
              "      <td>0</td>\n",
              "      <td>N</td>\n",
              "    </tr>\n",
              "  </tbody>\n",
              "</table>\n",
              "</div>"
            ],
            "text/plain": [
              "   SEVERITYCODE           X          Y  OBJECTID  INCKEY  COLDETKEY REPORTNO  \\\n",
              "0             2 -122.323148  47.703140         1    1307       1307  3502005   \n",
              "1             1 -122.347294  47.647172         2   52200      52200  2607959   \n",
              "2             1 -122.334540  47.607871         3   26700      26700  1482393   \n",
              "3             1 -122.334803  47.604803         4    1144       1144  3503937   \n",
              "4             2 -122.306426  47.545739         5   17700      17700  1807429   \n",
              "\n",
              "    STATUS      ADDRTYPE   INTKEY  \\\n",
              "0  Matched  Intersection  37475.0   \n",
              "1  Matched         Block      NaN   \n",
              "2  Matched         Block      NaN   \n",
              "3  Matched         Block      NaN   \n",
              "4  Matched  Intersection  34387.0   \n",
              "\n",
              "                                      LOCATION EXCEPTRSNCODE EXCEPTRSNDESC  \\\n",
              "0                   5TH AVE NE AND NE 103RD ST                         NaN   \n",
              "1   AURORA BR BETWEEN RAYE ST AND BRIDGE WAY N           NaN           NaN   \n",
              "2  4TH AVE BETWEEN SENECA ST AND UNIVERSITY ST           NaN           NaN   \n",
              "3     2ND AVE BETWEEN MARION ST AND MADISON ST                         NaN   \n",
              "4              SWIFT AVE S AND SWIFT AV OFF RP           NaN           NaN   \n",
              "\n",
              "   SEVERITYCODE.1                    SEVERITYDESC COLLISIONTYPE  PERSONCOUNT  \\\n",
              "0               2                Injury Collision        Angles            2   \n",
              "1               1  Property Damage Only Collision     Sideswipe            2   \n",
              "2               1  Property Damage Only Collision    Parked Car            4   \n",
              "3               1  Property Damage Only Collision         Other            3   \n",
              "4               2                Injury Collision        Angles            2   \n",
              "\n",
              "   PEDCOUNT  PEDCYLCOUNT  VEHCOUNT                 INCDATE  \\\n",
              "0         0            0         2  2013/03/27 00:00:00+00   \n",
              "1         0            0         2  2006/12/20 00:00:00+00   \n",
              "2         0            0         3  2004/11/18 00:00:00+00   \n",
              "3         0            0         3  2013/03/29 00:00:00+00   \n",
              "4         0            0         2  2004/01/28 00:00:00+00   \n",
              "\n",
              "                  INCDTTM                             JUNCTIONTYPE  \\\n",
              "0    3/27/2013 2:54:00 PM   At Intersection (intersection related)   \n",
              "1   12/20/2006 6:55:00 PM  Mid-Block (not related to intersection)   \n",
              "2  11/18/2004 10:20:00 AM  Mid-Block (not related to intersection)   \n",
              "3    3/29/2013 9:26:00 AM  Mid-Block (not related to intersection)   \n",
              "4    1/28/2004 8:04:00 AM   At Intersection (intersection related)   \n",
              "\n",
              "   SDOT_COLCODE                                       SDOT_COLDESC  \\\n",
              "0            11  MOTOR VEHICLE STRUCK MOTOR VEHICLE, FRONT END ...   \n",
              "1            16  MOTOR VEHICLE STRUCK MOTOR VEHICLE, LEFT SIDE ...   \n",
              "2            14       MOTOR VEHICLE STRUCK MOTOR VEHICLE, REAR END   \n",
              "3            11  MOTOR VEHICLE STRUCK MOTOR VEHICLE, FRONT END ...   \n",
              "4            11  MOTOR VEHICLE STRUCK MOTOR VEHICLE, FRONT END ...   \n",
              "\n",
              "  INATTENTIONIND UNDERINFL   WEATHER ROADCOND                LIGHTCOND  \\\n",
              "0            NaN         N  Overcast      Wet                 Daylight   \n",
              "1            NaN         0   Raining      Wet  Dark - Street Lights On   \n",
              "2            NaN         0  Overcast      Dry                 Daylight   \n",
              "3            NaN         N     Clear      Dry                 Daylight   \n",
              "4            NaN         0   Raining      Wet                 Daylight   \n",
              "\n",
              "  PEDROWNOTGRNT  SDOTCOLNUM SPEEDING ST_COLCODE  \\\n",
              "0           NaN         NaN      NaN         10   \n",
              "1           NaN   6354039.0      NaN         11   \n",
              "2           NaN   4323031.0      NaN         32   \n",
              "3           NaN         NaN      NaN         23   \n",
              "4           NaN   4028032.0      NaN         10   \n",
              "\n",
              "                                          ST_COLDESC  SEGLANEKEY  \\\n",
              "0                                  Entering at angle           0   \n",
              "1  From same direction - both going straight - bo...           0   \n",
              "2                             One parked--one moving           0   \n",
              "3                   From same direction - all others           0   \n",
              "4                                  Entering at angle           0   \n",
              "\n",
              "   CROSSWALKKEY HITPARKEDCAR  \n",
              "0             0            N  \n",
              "1             0            N  \n",
              "2             0            N  \n",
              "3             0            N  \n",
              "4             0            N  "
            ]
          },
          "metadata": {
            "tags": []
          },
          "execution_count": 39
        }
      ]
    },
    {
      "cell_type": "code",
      "metadata": {
        "id": "pZ3UPjMtsYKE",
        "outputId": "b73a72ec-afa0-4747-c5de-e10311e8ee42",
        "colab": {
          "base_uri": "https://localhost:8080/",
          "height": 680
        }
      },
      "source": [
        "df.dtypes"
      ],
      "execution_count": 40,
      "outputs": [
        {
          "output_type": "execute_result",
          "data": {
            "text/plain": [
              "SEVERITYCODE        int64\n",
              "X                 float64\n",
              "Y                 float64\n",
              "OBJECTID            int64\n",
              "INCKEY              int64\n",
              "COLDETKEY           int64\n",
              "REPORTNO           object\n",
              "STATUS             object\n",
              "ADDRTYPE           object\n",
              "INTKEY            float64\n",
              "LOCATION           object\n",
              "EXCEPTRSNCODE      object\n",
              "EXCEPTRSNDESC      object\n",
              "SEVERITYCODE.1      int64\n",
              "SEVERITYDESC       object\n",
              "COLLISIONTYPE      object\n",
              "PERSONCOUNT         int64\n",
              "PEDCOUNT            int64\n",
              "PEDCYLCOUNT         int64\n",
              "VEHCOUNT            int64\n",
              "INCDATE            object\n",
              "INCDTTM            object\n",
              "JUNCTIONTYPE       object\n",
              "SDOT_COLCODE        int64\n",
              "SDOT_COLDESC       object\n",
              "INATTENTIONIND     object\n",
              "UNDERINFL          object\n",
              "WEATHER            object\n",
              "ROADCOND           object\n",
              "LIGHTCOND          object\n",
              "PEDROWNOTGRNT      object\n",
              "SDOTCOLNUM        float64\n",
              "SPEEDING           object\n",
              "ST_COLCODE         object\n",
              "ST_COLDESC         object\n",
              "SEGLANEKEY          int64\n",
              "CROSSWALKKEY        int64\n",
              "HITPARKEDCAR       object\n",
              "dtype: object"
            ]
          },
          "metadata": {
            "tags": []
          },
          "execution_count": 40
        }
      ]
    },
    {
      "cell_type": "code",
      "metadata": {
        "id": "ZiQ6oP2ytOjE",
        "outputId": "5f9ad046-c9c1-4f01-8781-7ba59ef1f07c",
        "colab": {
          "base_uri": "https://localhost:8080/",
          "height": 34
        }
      },
      "source": [
        "df.shape"
      ],
      "execution_count": 41,
      "outputs": [
        {
          "output_type": "execute_result",
          "data": {
            "text/plain": [
              "(194673, 38)"
            ]
          },
          "metadata": {
            "tags": []
          },
          "execution_count": 41
        }
      ]
    },
    {
      "cell_type": "code",
      "metadata": {
        "id": "Vwdtc6bIsvDG",
        "outputId": "909c7e26-8706-49eb-e972-67123e2c5c72",
        "colab": {
          "base_uri": "https://localhost:8080/",
          "height": 680
        }
      },
      "source": [
        "df.isna().sum()"
      ],
      "execution_count": 42,
      "outputs": [
        {
          "output_type": "execute_result",
          "data": {
            "text/plain": [
              "SEVERITYCODE           0\n",
              "X                   5334\n",
              "Y                   5334\n",
              "OBJECTID               0\n",
              "INCKEY                 0\n",
              "COLDETKEY              0\n",
              "REPORTNO               0\n",
              "STATUS                 0\n",
              "ADDRTYPE            1926\n",
              "INTKEY            129603\n",
              "LOCATION            2677\n",
              "EXCEPTRSNCODE     109862\n",
              "EXCEPTRSNDESC     189035\n",
              "SEVERITYCODE.1         0\n",
              "SEVERITYDESC           0\n",
              "COLLISIONTYPE       4904\n",
              "PERSONCOUNT            0\n",
              "PEDCOUNT               0\n",
              "PEDCYLCOUNT            0\n",
              "VEHCOUNT               0\n",
              "INCDATE                0\n",
              "INCDTTM                0\n",
              "JUNCTIONTYPE        6329\n",
              "SDOT_COLCODE           0\n",
              "SDOT_COLDESC           0\n",
              "INATTENTIONIND    164868\n",
              "UNDERINFL           4884\n",
              "WEATHER             5081\n",
              "ROADCOND            5012\n",
              "LIGHTCOND           5170\n",
              "PEDROWNOTGRNT     190006\n",
              "SDOTCOLNUM         79737\n",
              "SPEEDING          185340\n",
              "ST_COLCODE            18\n",
              "ST_COLDESC          4904\n",
              "SEGLANEKEY             0\n",
              "CROSSWALKKEY           0\n",
              "HITPARKEDCAR           0\n",
              "dtype: int64"
            ]
          },
          "metadata": {
            "tags": []
          },
          "execution_count": 42
        }
      ]
    },
    {
      "cell_type": "code",
      "metadata": {
        "id": "rq-UngwItG5J",
        "outputId": "4b360627-0ecc-4114-8a9f-5194844f39a4",
        "colab": {
          "base_uri": "https://localhost:8080/",
          "height": 170
        }
      },
      "source": [
        "df.columns"
      ],
      "execution_count": 43,
      "outputs": [
        {
          "output_type": "execute_result",
          "data": {
            "text/plain": [
              "Index(['SEVERITYCODE', 'X', 'Y', 'OBJECTID', 'INCKEY', 'COLDETKEY', 'REPORTNO',\n",
              "       'STATUS', 'ADDRTYPE', 'INTKEY', 'LOCATION', 'EXCEPTRSNCODE',\n",
              "       'EXCEPTRSNDESC', 'SEVERITYCODE.1', 'SEVERITYDESC', 'COLLISIONTYPE',\n",
              "       'PERSONCOUNT', 'PEDCOUNT', 'PEDCYLCOUNT', 'VEHCOUNT', 'INCDATE',\n",
              "       'INCDTTM', 'JUNCTIONTYPE', 'SDOT_COLCODE', 'SDOT_COLDESC',\n",
              "       'INATTENTIONIND', 'UNDERINFL', 'WEATHER', 'ROADCOND', 'LIGHTCOND',\n",
              "       'PEDROWNOTGRNT', 'SDOTCOLNUM', 'SPEEDING', 'ST_COLCODE', 'ST_COLDESC',\n",
              "       'SEGLANEKEY', 'CROSSWALKKEY', 'HITPARKEDCAR'],\n",
              "      dtype='object')"
            ]
          },
          "metadata": {
            "tags": []
          },
          "execution_count": 43
        }
      ]
    },
    {
      "cell_type": "markdown",
      "metadata": {
        "id": "4r9UszyAAmGN"
      },
      "source": [
        "The Data contains lots of columns which will not be used in this project as it creates a bias and reduces the accuracy\n"
      ]
    },
    {
      "cell_type": "code",
      "metadata": {
        "id": "4R00-omvu8xz"
      },
      "source": [
        "df.drop(['INTKEY','EXCEPTRSNCODE','EXCEPTRSNDESC','PEDROWNOTGRNT','SPEEDING','INATTENTIONIND',],axis=1,inplace=True)"
      ],
      "execution_count": 44,
      "outputs": []
    },
    {
      "cell_type": "code",
      "metadata": {
        "id": "6KT84joAzWvp",
        "outputId": "5cc54dcd-bbe5-4070-cc69-972281c3e4bb",
        "colab": {
          "base_uri": "https://localhost:8080/",
          "height": 34
        }
      },
      "source": [
        "df.shape"
      ],
      "execution_count": 45,
      "outputs": [
        {
          "output_type": "execute_result",
          "data": {
            "text/plain": [
              "(194673, 32)"
            ]
          },
          "metadata": {
            "tags": []
          },
          "execution_count": 45
        }
      ]
    },
    {
      "cell_type": "code",
      "metadata": {
        "id": "KOFXYMeFzX4z"
      },
      "source": [
        "df.drop(['INCKEY','COLDETKEY','REPORTNO','INCDTTM','SEGLANEKEY','CROSSWALKKEY','STATUS','SEVERITYCODE.1','SDOTCOLNUM','ST_COLCODE', 'ST_COLDESC'],axis=1,inplace=True)"
      ],
      "execution_count": 46,
      "outputs": []
    },
    {
      "cell_type": "code",
      "metadata": {
        "id": "pDQ4CJla4Xg1",
        "outputId": "2495d4c0-daad-467f-abbe-b74afff675f4",
        "colab": {
          "base_uri": "https://localhost:8080/",
          "height": 700
        }
      },
      "source": [
        "df.head()"
      ],
      "execution_count": 47,
      "outputs": [
        {
          "output_type": "execute_result",
          "data": {
            "text/html": [
              "<div>\n",
              "<style scoped>\n",
              "    .dataframe tbody tr th:only-of-type {\n",
              "        vertical-align: middle;\n",
              "    }\n",
              "\n",
              "    .dataframe tbody tr th {\n",
              "        vertical-align: top;\n",
              "    }\n",
              "\n",
              "    .dataframe thead th {\n",
              "        text-align: right;\n",
              "    }\n",
              "</style>\n",
              "<table border=\"1\" class=\"dataframe\">\n",
              "  <thead>\n",
              "    <tr style=\"text-align: right;\">\n",
              "      <th></th>\n",
              "      <th>SEVERITYCODE</th>\n",
              "      <th>X</th>\n",
              "      <th>Y</th>\n",
              "      <th>OBJECTID</th>\n",
              "      <th>ADDRTYPE</th>\n",
              "      <th>LOCATION</th>\n",
              "      <th>SEVERITYDESC</th>\n",
              "      <th>COLLISIONTYPE</th>\n",
              "      <th>PERSONCOUNT</th>\n",
              "      <th>PEDCOUNT</th>\n",
              "      <th>PEDCYLCOUNT</th>\n",
              "      <th>VEHCOUNT</th>\n",
              "      <th>INCDATE</th>\n",
              "      <th>JUNCTIONTYPE</th>\n",
              "      <th>SDOT_COLCODE</th>\n",
              "      <th>SDOT_COLDESC</th>\n",
              "      <th>UNDERINFL</th>\n",
              "      <th>WEATHER</th>\n",
              "      <th>ROADCOND</th>\n",
              "      <th>LIGHTCOND</th>\n",
              "      <th>HITPARKEDCAR</th>\n",
              "    </tr>\n",
              "  </thead>\n",
              "  <tbody>\n",
              "    <tr>\n",
              "      <th>0</th>\n",
              "      <td>2</td>\n",
              "      <td>-122.323148</td>\n",
              "      <td>47.703140</td>\n",
              "      <td>1</td>\n",
              "      <td>Intersection</td>\n",
              "      <td>5TH AVE NE AND NE 103RD ST</td>\n",
              "      <td>Injury Collision</td>\n",
              "      <td>Angles</td>\n",
              "      <td>2</td>\n",
              "      <td>0</td>\n",
              "      <td>0</td>\n",
              "      <td>2</td>\n",
              "      <td>2013/03/27 00:00:00+00</td>\n",
              "      <td>At Intersection (intersection related)</td>\n",
              "      <td>11</td>\n",
              "      <td>MOTOR VEHICLE STRUCK MOTOR VEHICLE, FRONT END ...</td>\n",
              "      <td>N</td>\n",
              "      <td>Overcast</td>\n",
              "      <td>Wet</td>\n",
              "      <td>Daylight</td>\n",
              "      <td>N</td>\n",
              "    </tr>\n",
              "    <tr>\n",
              "      <th>1</th>\n",
              "      <td>1</td>\n",
              "      <td>-122.347294</td>\n",
              "      <td>47.647172</td>\n",
              "      <td>2</td>\n",
              "      <td>Block</td>\n",
              "      <td>AURORA BR BETWEEN RAYE ST AND BRIDGE WAY N</td>\n",
              "      <td>Property Damage Only Collision</td>\n",
              "      <td>Sideswipe</td>\n",
              "      <td>2</td>\n",
              "      <td>0</td>\n",
              "      <td>0</td>\n",
              "      <td>2</td>\n",
              "      <td>2006/12/20 00:00:00+00</td>\n",
              "      <td>Mid-Block (not related to intersection)</td>\n",
              "      <td>16</td>\n",
              "      <td>MOTOR VEHICLE STRUCK MOTOR VEHICLE, LEFT SIDE ...</td>\n",
              "      <td>0</td>\n",
              "      <td>Raining</td>\n",
              "      <td>Wet</td>\n",
              "      <td>Dark - Street Lights On</td>\n",
              "      <td>N</td>\n",
              "    </tr>\n",
              "    <tr>\n",
              "      <th>2</th>\n",
              "      <td>1</td>\n",
              "      <td>-122.334540</td>\n",
              "      <td>47.607871</td>\n",
              "      <td>3</td>\n",
              "      <td>Block</td>\n",
              "      <td>4TH AVE BETWEEN SENECA ST AND UNIVERSITY ST</td>\n",
              "      <td>Property Damage Only Collision</td>\n",
              "      <td>Parked Car</td>\n",
              "      <td>4</td>\n",
              "      <td>0</td>\n",
              "      <td>0</td>\n",
              "      <td>3</td>\n",
              "      <td>2004/11/18 00:00:00+00</td>\n",
              "      <td>Mid-Block (not related to intersection)</td>\n",
              "      <td>14</td>\n",
              "      <td>MOTOR VEHICLE STRUCK MOTOR VEHICLE, REAR END</td>\n",
              "      <td>0</td>\n",
              "      <td>Overcast</td>\n",
              "      <td>Dry</td>\n",
              "      <td>Daylight</td>\n",
              "      <td>N</td>\n",
              "    </tr>\n",
              "    <tr>\n",
              "      <th>3</th>\n",
              "      <td>1</td>\n",
              "      <td>-122.334803</td>\n",
              "      <td>47.604803</td>\n",
              "      <td>4</td>\n",
              "      <td>Block</td>\n",
              "      <td>2ND AVE BETWEEN MARION ST AND MADISON ST</td>\n",
              "      <td>Property Damage Only Collision</td>\n",
              "      <td>Other</td>\n",
              "      <td>3</td>\n",
              "      <td>0</td>\n",
              "      <td>0</td>\n",
              "      <td>3</td>\n",
              "      <td>2013/03/29 00:00:00+00</td>\n",
              "      <td>Mid-Block (not related to intersection)</td>\n",
              "      <td>11</td>\n",
              "      <td>MOTOR VEHICLE STRUCK MOTOR VEHICLE, FRONT END ...</td>\n",
              "      <td>N</td>\n",
              "      <td>Clear</td>\n",
              "      <td>Dry</td>\n",
              "      <td>Daylight</td>\n",
              "      <td>N</td>\n",
              "    </tr>\n",
              "    <tr>\n",
              "      <th>4</th>\n",
              "      <td>2</td>\n",
              "      <td>-122.306426</td>\n",
              "      <td>47.545739</td>\n",
              "      <td>5</td>\n",
              "      <td>Intersection</td>\n",
              "      <td>SWIFT AVE S AND SWIFT AV OFF RP</td>\n",
              "      <td>Injury Collision</td>\n",
              "      <td>Angles</td>\n",
              "      <td>2</td>\n",
              "      <td>0</td>\n",
              "      <td>0</td>\n",
              "      <td>2</td>\n",
              "      <td>2004/01/28 00:00:00+00</td>\n",
              "      <td>At Intersection (intersection related)</td>\n",
              "      <td>11</td>\n",
              "      <td>MOTOR VEHICLE STRUCK MOTOR VEHICLE, FRONT END ...</td>\n",
              "      <td>0</td>\n",
              "      <td>Raining</td>\n",
              "      <td>Wet</td>\n",
              "      <td>Daylight</td>\n",
              "      <td>N</td>\n",
              "    </tr>\n",
              "  </tbody>\n",
              "</table>\n",
              "</div>"
            ],
            "text/plain": [
              "   SEVERITYCODE           X          Y  OBJECTID      ADDRTYPE  \\\n",
              "0             2 -122.323148  47.703140         1  Intersection   \n",
              "1             1 -122.347294  47.647172         2         Block   \n",
              "2             1 -122.334540  47.607871         3         Block   \n",
              "3             1 -122.334803  47.604803         4         Block   \n",
              "4             2 -122.306426  47.545739         5  Intersection   \n",
              "\n",
              "                                      LOCATION  \\\n",
              "0                   5TH AVE NE AND NE 103RD ST   \n",
              "1   AURORA BR BETWEEN RAYE ST AND BRIDGE WAY N   \n",
              "2  4TH AVE BETWEEN SENECA ST AND UNIVERSITY ST   \n",
              "3     2ND AVE BETWEEN MARION ST AND MADISON ST   \n",
              "4              SWIFT AVE S AND SWIFT AV OFF RP   \n",
              "\n",
              "                     SEVERITYDESC COLLISIONTYPE  PERSONCOUNT  PEDCOUNT  \\\n",
              "0                Injury Collision        Angles            2         0   \n",
              "1  Property Damage Only Collision     Sideswipe            2         0   \n",
              "2  Property Damage Only Collision    Parked Car            4         0   \n",
              "3  Property Damage Only Collision         Other            3         0   \n",
              "4                Injury Collision        Angles            2         0   \n",
              "\n",
              "   PEDCYLCOUNT  VEHCOUNT                 INCDATE  \\\n",
              "0            0         2  2013/03/27 00:00:00+00   \n",
              "1            0         2  2006/12/20 00:00:00+00   \n",
              "2            0         3  2004/11/18 00:00:00+00   \n",
              "3            0         3  2013/03/29 00:00:00+00   \n",
              "4            0         2  2004/01/28 00:00:00+00   \n",
              "\n",
              "                              JUNCTIONTYPE  SDOT_COLCODE  \\\n",
              "0   At Intersection (intersection related)            11   \n",
              "1  Mid-Block (not related to intersection)            16   \n",
              "2  Mid-Block (not related to intersection)            14   \n",
              "3  Mid-Block (not related to intersection)            11   \n",
              "4   At Intersection (intersection related)            11   \n",
              "\n",
              "                                        SDOT_COLDESC UNDERINFL   WEATHER  \\\n",
              "0  MOTOR VEHICLE STRUCK MOTOR VEHICLE, FRONT END ...         N  Overcast   \n",
              "1  MOTOR VEHICLE STRUCK MOTOR VEHICLE, LEFT SIDE ...         0   Raining   \n",
              "2       MOTOR VEHICLE STRUCK MOTOR VEHICLE, REAR END         0  Overcast   \n",
              "3  MOTOR VEHICLE STRUCK MOTOR VEHICLE, FRONT END ...         N     Clear   \n",
              "4  MOTOR VEHICLE STRUCK MOTOR VEHICLE, FRONT END ...         0   Raining   \n",
              "\n",
              "  ROADCOND                LIGHTCOND HITPARKEDCAR  \n",
              "0      Wet                 Daylight            N  \n",
              "1      Wet  Dark - Street Lights On            N  \n",
              "2      Dry                 Daylight            N  \n",
              "3      Dry                 Daylight            N  \n",
              "4      Wet                 Daylight            N  "
            ]
          },
          "metadata": {
            "tags": []
          },
          "execution_count": 47
        }
      ]
    },
    {
      "cell_type": "code",
      "metadata": {
        "id": "leCFAjIt4dfW",
        "outputId": "c414eda4-ea41-443d-c07b-0da6b5699860",
        "colab": {
          "base_uri": "https://localhost:8080/",
          "height": 391
        }
      },
      "source": [
        "df.isna().sum()"
      ],
      "execution_count": 48,
      "outputs": [
        {
          "output_type": "execute_result",
          "data": {
            "text/plain": [
              "SEVERITYCODE        0\n",
              "X                5334\n",
              "Y                5334\n",
              "OBJECTID            0\n",
              "ADDRTYPE         1926\n",
              "LOCATION         2677\n",
              "SEVERITYDESC        0\n",
              "COLLISIONTYPE    4904\n",
              "PERSONCOUNT         0\n",
              "PEDCOUNT            0\n",
              "PEDCYLCOUNT         0\n",
              "VEHCOUNT            0\n",
              "INCDATE             0\n",
              "JUNCTIONTYPE     6329\n",
              "SDOT_COLCODE        0\n",
              "SDOT_COLDESC        0\n",
              "UNDERINFL        4884\n",
              "WEATHER          5081\n",
              "ROADCOND         5012\n",
              "LIGHTCOND        5170\n",
              "HITPARKEDCAR        0\n",
              "dtype: int64"
            ]
          },
          "metadata": {
            "tags": []
          },
          "execution_count": 48
        }
      ]
    },
    {
      "cell_type": "markdown",
      "metadata": {
        "id": "VRrpSn48Bd29"
      },
      "source": [
        "# **Data Analysis**"
      ]
    },
    {
      "cell_type": "code",
      "metadata": {
        "id": "tFZxKSQdOa6W",
        "outputId": "cb8ebad6-9cfe-4ddd-b59f-a05fe021a41f",
        "colab": {
          "base_uri": "https://localhost:8080/",
          "height": 68
        }
      },
      "source": [
        "df['SEVERITYCODE'].value_counts()"
      ],
      "execution_count": 49,
      "outputs": [
        {
          "output_type": "execute_result",
          "data": {
            "text/plain": [
              "1    136485\n",
              "2     58188\n",
              "Name: SEVERITYCODE, dtype: int64"
            ]
          },
          "metadata": {
            "tags": []
          },
          "execution_count": 49
        }
      ]
    },
    {
      "cell_type": "markdown",
      "metadata": {
        "id": "tgey0GVUA9XK"
      },
      "source": [
        "The main objective of this project is to predict the severity code of the incident given some conditions. The Severity code 1 indicates property damage and 2 indicates injury."
      ]
    },
    {
      "cell_type": "code",
      "metadata": {
        "id": "kZTecNGVlTQD",
        "outputId": "da9c0e37-e976-4d1d-9070-84ac9b448888",
        "colab": {
          "base_uri": "https://localhost:8080/",
          "height": 350
        }
      },
      "source": [
        "sns.countplot('SEVERITYCODE',data=df)"
      ],
      "execution_count": 50,
      "outputs": [
        {
          "output_type": "stream",
          "text": [
            "/usr/local/lib/python3.6/dist-packages/seaborn/_decorators.py:43: FutureWarning: Pass the following variable as a keyword arg: x. From version 0.12, the only valid positional argument will be `data`, and passing other arguments without an explicit keyword will result in an error or misinterpretation.\n",
            "  FutureWarning\n"
          ],
          "name": "stderr"
        },
        {
          "output_type": "execute_result",
          "data": {
            "text/plain": [
              "<matplotlib.axes._subplots.AxesSubplot at 0x7f1fe9328400>"
            ]
          },
          "metadata": {
            "tags": []
          },
          "execution_count": 50
        },
        {
          "output_type": "display_data",
          "data": {
            "image/png": "[encoded data removed]",
            "text/plain": [
              "<Figure size 432x288 with 1 Axes>"
            ]
          },
          "metadata": {
            "tags": [],
            "needs_background": "light"
          }
        }
      ]
    },
    {
      "cell_type": "code",
      "metadata": {
        "id": "EYGhudArO1MO",
        "outputId": "40739b20-e532-41f2-fb84-0169d95697fb",
        "colab": {
          "base_uri": "https://localhost:8080/",
          "height": 153
        }
      },
      "source": [
        "df.groupby(['ADDRTYPE'])['SEVERITYCODE'].value_counts()"
      ],
      "execution_count": 51,
      "outputs": [
        {
          "output_type": "execute_result",
          "data": {
            "text/plain": [
              "ADDRTYPE      SEVERITYCODE\n",
              "Alley         1                 669\n",
              "              2                  82\n",
              "Block         1               96830\n",
              "              2               30096\n",
              "Intersection  1               37251\n",
              "              2               27819\n",
              "Name: SEVERITYCODE, dtype: int64"
            ]
          },
          "metadata": {
            "tags": []
          },
          "execution_count": 51
        }
      ]
    },
    {
      "cell_type": "code",
      "metadata": {
        "id": "RZJCjoJOmyAj",
        "outputId": "fa59a00f-8ef6-4aca-fa37-fab8c3e6a7d8",
        "colab": {
          "base_uri": "https://localhost:8080/",
          "height": 297
        }
      },
      "source": [
        "sns.countplot(x='ADDRTYPE', hue='SEVERITYCODE', data=df,)"
      ],
      "execution_count": 52,
      "outputs": [
        {
          "output_type": "execute_result",
          "data": {
            "text/plain": [
              "<matplotlib.axes._subplots.AxesSubplot at 0x7f1fe92f1f60>"
            ]
          },
          "metadata": {
            "tags": []
          },
          "execution_count": 52
        },
        {
          "output_type": "display_data",
          "data": {
            "image/png": "[encoded data removed]",
            "text/plain": [
              "<Figure size 432x288 with 1 Axes>"
            ]
          },
          "metadata": {
            "tags": [],
            "needs_background": "light"
          }
        }
      ]
    },
    {
      "cell_type": "code",
      "metadata": {
        "id": "fW5WvJj2gple",
        "outputId": "5a0045d4-2735-4d20-ed8a-89fd17f10a0e",
        "colab": {
          "base_uri": "https://localhost:8080/",
          "height": 221
        }
      },
      "source": [
        "df['LOCATION'].value_counts()"
      ],
      "execution_count": 53,
      "outputs": [
        {
          "output_type": "execute_result",
          "data": {
            "text/plain": [
              "BATTERY ST TUNNEL NB BETWEEN ALASKAN WY VI NB AND AURORA AVE N    276\n",
              "BATTERY ST TUNNEL SB BETWEEN AURORA AVE N AND ALASKAN WY VI SB    271\n",
              "N NORTHGATE WAY BETWEEN MERIDIAN AVE N AND CORLISS AVE N          265\n",
              "AURORA AVE N BETWEEN N 117TH PL AND N 125TH ST                    254\n",
              "6TH AVE AND JAMES ST                                              252\n",
              "                                                                 ... \n",
              "CHERRY ST ON RP BETWEEN CHERRY ST AND I5 NB                         1\n",
              "RAVENNA AVE NE AND NE 70TH ST                                       1\n",
              "E WARD ST BETWEEN 31ST E AVE E AND 32ND AVE E                       1\n",
              "CORLISS AVE N AND N 135TH ST                                        1\n",
              "ASHWORTH AVE N BETWEEN N 41ST ST AND N 42ND ST                      1\n",
              "Name: LOCATION, Length: 24102, dtype: int64"
            ]
          },
          "metadata": {
            "tags": []
          },
          "execution_count": 53
        }
      ]
    },
    {
      "cell_type": "code",
      "metadata": {
        "id": "WNlFseIehajo",
        "outputId": "59581725-e923-4482-8ae6-5d54761b1641",
        "colab": {
          "base_uri": "https://localhost:8080/",
          "height": 391
        }
      },
      "source": [
        "df.groupby(['COLLISIONTYPE'])['SEVERITYCODE'].value_counts()"
      ],
      "execution_count": 54,
      "outputs": [
        {
          "output_type": "execute_result",
          "data": {
            "text/plain": [
              "COLLISIONTYPE  SEVERITYCODE\n",
              "Angles         1               21050\n",
              "               2               13624\n",
              "Cycles         2                4744\n",
              "               1                 671\n",
              "Head On        1                1152\n",
              "               2                 872\n",
              "Left Turn      1                8292\n",
              "               2                5411\n",
              "Other          1               17591\n",
              "               2                6112\n",
              "Parked Car     1               45325\n",
              "               2                2662\n",
              "Pedestrian     2                5936\n",
              "               1                 672\n",
              "Rear Ended     1               19419\n",
              "               2               14671\n",
              "Right Turn     1                2347\n",
              "               2                 609\n",
              "Sideswipe      1               16103\n",
              "               2                2506\n",
              "Name: SEVERITYCODE, dtype: int64"
            ]
          },
          "metadata": {
            "tags": []
          },
          "execution_count": 54
        }
      ]
    },
    {
      "cell_type": "code",
      "metadata": {
        "id": "XJpQWVgIsyY7",
        "outputId": "070bffb6-5f29-4343-9f38-605dde18f8cb",
        "colab": {
          "base_uri": "https://localhost:8080/",
          "height": 405
        }
      },
      "source": [
        "f, ax = plt.subplots(figsize=(10, 6))\n",
        "sns.countplot(x='COLLISIONTYPE', hue='SEVERITYCODE',data=df,order=df['COLLISIONTYPE'].value_counts().index)"
      ],
      "execution_count": 55,
      "outputs": [
        {
          "output_type": "execute_result",
          "data": {
            "text/plain": [
              "<matplotlib.axes._subplots.AxesSubplot at 0x7f1fe925f4a8>"
            ]
          },
          "metadata": {
            "tags": []
          },
          "execution_count": 55
        },
        {
          "output_type": "display_data",
          "data": {
            "image/png": "[encoded data removed]",
            "text/plain": [
              "<Figure size 720x432 with 1 Axes>"
            ]
          },
          "metadata": {
            "tags": [],
            "needs_background": "light"
          }
        }
      ]
    },
    {
      "cell_type": "code",
      "metadata": {
        "id": "cDyGRMCuh1wI",
        "outputId": "70800a0d-52a8-47f1-bc40-a55859fa655d",
        "colab": {
          "base_uri": "https://localhost:8080/",
          "height": 238
        }
      },
      "source": [
        "df.groupby(['PERSONCOUNT'])['SEVERITYCODE'].value_counts()"
      ],
      "execution_count": 56,
      "outputs": [
        {
          "output_type": "execute_result",
          "data": {
            "text/plain": [
              "PERSONCOUNT  SEVERITYCODE\n",
              "0            1                3782\n",
              "             2                1762\n",
              "1            1                9858\n",
              "             2                3296\n",
              "2            1               86420\n",
              "                             ...  \n",
              "48           2                   1\n",
              "53           1                   1\n",
              "54           2                   1\n",
              "57           1                   1\n",
              "81           2                   1\n",
              "Name: SEVERITYCODE, Length: 79, dtype: int64"
            ]
          },
          "metadata": {
            "tags": []
          },
          "execution_count": 56
        }
      ]
    },
    {
      "cell_type": "code",
      "metadata": {
        "id": "-kzl5hf4igx3",
        "outputId": "7c718db4-7d6e-4854-8362-2ac296f1dda1",
        "colab": {
          "base_uri": "https://localhost:8080/",
          "height": 238
        }
      },
      "source": [
        "df.groupby(['PEDCOUNT'])['SEVERITYCODE'].value_counts()"
      ],
      "execution_count": 57,
      "outputs": [
        {
          "output_type": "execute_result",
          "data": {
            "text/plain": [
              "PEDCOUNT  SEVERITYCODE\n",
              "0         1               135787\n",
              "          2                51947\n",
              "1         2                 6007\n",
              "          1                  678\n",
              "2         2                  207\n",
              "          1                   19\n",
              "3         2                   21\n",
              "          1                    1\n",
              "4         2                    4\n",
              "5         2                    1\n",
              "6         2                    1\n",
              "Name: SEVERITYCODE, dtype: int64"
            ]
          },
          "metadata": {
            "tags": []
          },
          "execution_count": 57
        }
      ]
    },
    {
      "cell_type": "code",
      "metadata": {
        "id": "oEOl7OkUvJMN",
        "outputId": "4e58c355-f8dd-44d5-9098-75b89fe7065c",
        "colab": {
          "base_uri": "https://localhost:8080/",
          "height": 296
        }
      },
      "source": [
        "sns.countplot(x='PEDCOUNT', hue='SEVERITYCODE',data=df,order=df['PEDCOUNT'].value_counts().index)"
      ],
      "execution_count": 58,
      "outputs": [
        {
          "output_type": "execute_result",
          "data": {
            "text/plain": [
              "<matplotlib.axes._subplots.AxesSubplot at 0x7f1fe92071d0>"
            ]
          },
          "metadata": {
            "tags": []
          },
          "execution_count": 58
        },
        {
          "output_type": "display_data",
          "data": {
            "image/png": "[encoded data removed]",
            "text/plain": [
              "<Figure size 432x288 with 1 Axes>"
            ]
          },
          "metadata": {
            "tags": [],
            "needs_background": "light"
          }
        }
      ]
    },
    {
      "cell_type": "code",
      "metadata": {
        "id": "I_BS8Ltni3_b",
        "outputId": "c01d2e14-97a7-426b-a9da-c6d6d3053939",
        "colab": {
          "base_uri": "https://localhost:8080/",
          "height": 136
        }
      },
      "source": [
        "df.groupby(['PEDCYLCOUNT'])['SEVERITYCODE'].value_counts()"
      ],
      "execution_count": 59,
      "outputs": [
        {
          "output_type": "execute_result",
          "data": {
            "text/plain": [
              "PEDCYLCOUNT  SEVERITYCODE\n",
              "0            1               135806\n",
              "             2                53383\n",
              "1            2                 4762\n",
              "             1                  679\n",
              "2            2                   43\n",
              "Name: SEVERITYCODE, dtype: int64"
            ]
          },
          "metadata": {
            "tags": []
          },
          "execution_count": 59
        }
      ]
    },
    {
      "cell_type": "code",
      "metadata": {
        "id": "6qOJwgyrvKEp",
        "outputId": "43fd2682-9d0e-43c0-f93d-119f2b69cb65",
        "colab": {
          "base_uri": "https://localhost:8080/",
          "height": 296
        }
      },
      "source": [
        "sns.countplot(x='PEDCYLCOUNT', hue='SEVERITYCODE',data=df,order=df['PEDCYLCOUNT'].value_counts().index)"
      ],
      "execution_count": 60,
      "outputs": [
        {
          "output_type": "execute_result",
          "data": {
            "text/plain": [
              "<matplotlib.axes._subplots.AxesSubplot at 0x7f1fe914d278>"
            ]
          },
          "metadata": {
            "tags": []
          },
          "execution_count": 60
        },
        {
          "output_type": "display_data",
          "data": {
            "image/png": "[encoded data removed]",
            "text/plain": [
              "<Figure size 432x288 with 1 Axes>"
            ]
          },
          "metadata": {
            "tags": [],
            "needs_background": "light"
          }
        }
      ]
    },
    {
      "cell_type": "code",
      "metadata": {
        "id": "tdJqzMDFjI7s",
        "outputId": "223f7632-d8fd-427d-8a21-4ea290af3d41",
        "colab": {
          "base_uri": "https://localhost:8080/",
          "height": 459
        }
      },
      "source": [
        "df.groupby(['VEHCOUNT'])['SEVERITYCODE'].value_counts()"
      ],
      "execution_count": 61,
      "outputs": [
        {
          "output_type": "execute_result",
          "data": {
            "text/plain": [
              "VEHCOUNT  SEVERITYCODE\n",
              "0         1                 3858\n",
              "          2                 1227\n",
              "1         2                14105\n",
              "          1                11643\n",
              "2         1               111701\n",
              "          2                35949\n",
              "3         1                 7540\n",
              "          2                 5470\n",
              "4         1                 1348\n",
              "          2                 1078\n",
              "5         1                  268\n",
              "          2                  261\n",
              "6         1                   86\n",
              "          2                   60\n",
              "7         1                   24\n",
              "          2                   22\n",
              "8         1                   10\n",
              "          2                    5\n",
              "9         2                    6\n",
              "          1                    3\n",
              "10        2                    2\n",
              "11        1                    3\n",
              "          2                    3\n",
              "12        1                    1\n",
              "Name: SEVERITYCODE, dtype: int64"
            ]
          },
          "metadata": {
            "tags": []
          },
          "execution_count": 61
        }
      ]
    },
    {
      "cell_type": "code",
      "metadata": {
        "id": "nxzW9hnfvK-O",
        "outputId": "77531716-d760-439a-ec99-1f86577d6f1b",
        "colab": {
          "base_uri": "https://localhost:8080/",
          "height": 296
        }
      },
      "source": [
        "sns.countplot(x='VEHCOUNT', hue='SEVERITYCODE',data=df,order=df['VEHCOUNT'].value_counts().index)"
      ],
      "execution_count": 62,
      "outputs": [
        {
          "output_type": "execute_result",
          "data": {
            "text/plain": [
              "<matplotlib.axes._subplots.AxesSubplot at 0x7f1fe9093828>"
            ]
          },
          "metadata": {
            "tags": []
          },
          "execution_count": 62
        },
        {
          "output_type": "display_data",
          "data": {
            "image/png": "[encoded data removed]",
            "text/plain": [
              "<Figure size 432x288 with 1 Axes>"
            ]
          },
          "metadata": {
            "tags": [],
            "needs_background": "light"
          }
        }
      ]
    },
    {
      "cell_type": "code",
      "metadata": {
        "id": "lNlQvffvkD5t",
        "outputId": "4614b0f8-c6aa-4be6-a8e1-0c63907aceed",
        "colab": {
          "base_uri": "https://localhost:8080/",
          "height": 187
        }
      },
      "source": [
        "df.groupby(['UNDERINFL'])['SEVERITYCODE'].value_counts()"
      ],
      "execution_count": 63,
      "outputs": [
        {
          "output_type": "execute_result",
          "data": {
            "text/plain": [
              "UNDERINFL  SEVERITYCODE\n",
              "0          1               57693\n",
              "           2               22701\n",
              "1          1                2372\n",
              "           2                1623\n",
              "N          1               69378\n",
              "           2               30896\n",
              "Y          1                3187\n",
              "           2                1939\n",
              "Name: SEVERITYCODE, dtype: int64"
            ]
          },
          "metadata": {
            "tags": []
          },
          "execution_count": 63
        }
      ]
    },
    {
      "cell_type": "code",
      "metadata": {
        "id": "fj8WIn2Jvrx4"
      },
      "source": [
        "df['UNDERINFL'].replace(to_replace=['N','0','Y','1'],value=[0,0,1,1],inplace=True)"
      ],
      "execution_count": 64,
      "outputs": []
    },
    {
      "cell_type": "code",
      "metadata": {
        "id": "FZWAZbe1xqj5",
        "outputId": "ac1caacb-bfd8-4d0b-d78f-5db3e8d016b3",
        "colab": {
          "base_uri": "https://localhost:8080/",
          "height": 296
        }
      },
      "source": [
        "sns.countplot(x='UNDERINFL', hue='SEVERITYCODE',data=df,order=df['UNDERINFL'].value_counts().index)"
      ],
      "execution_count": 71,
      "outputs": [
        {
          "output_type": "execute_result",
          "data": {
            "text/plain": [
              "<matplotlib.axes._subplots.AxesSubplot at 0x7f1fe8f8c860>"
            ]
          },
          "metadata": {
            "tags": []
          },
          "execution_count": 71
        },
        {
          "output_type": "display_data",
          "data": {
            "image/png": "[encoded data removed]",
            "text/plain": [
              "<Figure size 432x288 with 1 Axes>"
            ]
          },
          "metadata": {
            "tags": [],
            "needs_background": "light"
          }
        }
      ]
    },
    {
      "cell_type": "code",
      "metadata": {
        "id": "yu_HGN3uwPmL",
        "outputId": "aecc72a4-071a-4273-a2b5-25cc5bb438f7",
        "colab": {
          "base_uri": "https://localhost:8080/",
          "height": 119
        }
      },
      "source": [
        "df.groupby(['UNDERINFL'])['SEVERITYCODE'].value_counts()"
      ],
      "execution_count": 65,
      "outputs": [
        {
          "output_type": "execute_result",
          "data": {
            "text/plain": [
              "UNDERINFL  SEVERITYCODE\n",
              "0.0        1               127071\n",
              "           2                53597\n",
              "1.0        1                 5559\n",
              "           2                 3562\n",
              "Name: SEVERITYCODE, dtype: int64"
            ]
          },
          "metadata": {
            "tags": []
          },
          "execution_count": 65
        }
      ]
    },
    {
      "cell_type": "code",
      "metadata": {
        "id": "Jqu3lkQbkEaN",
        "outputId": "37e5c41d-747a-4d65-b5b6-118e30ce1c60",
        "colab": {
          "base_uri": "https://localhost:8080/",
          "height": 425
        }
      },
      "source": [
        "df.groupby(['WEATHER'])['SEVERITYCODE'].value_counts()"
      ],
      "execution_count": 66,
      "outputs": [
        {
          "output_type": "execute_result",
          "data": {
            "text/plain": [
              "WEATHER                   SEVERITYCODE\n",
              "Blowing Sand/Dirt         1                  41\n",
              "                          2                  15\n",
              "Clear                     1               75295\n",
              "                          2               35840\n",
              "Fog/Smog/Smoke            1                 382\n",
              "                          2                 187\n",
              "Other                     1                 716\n",
              "                          2                 116\n",
              "Overcast                  1               18969\n",
              "                          2                8745\n",
              "Partly Cloudy             2                   3\n",
              "                          1                   2\n",
              "Raining                   1               21969\n",
              "                          2               11176\n",
              "Severe Crosswind          1                  18\n",
              "                          2                   7\n",
              "Sleet/Hail/Freezing Rain  1                  85\n",
              "                          2                  28\n",
              "Snowing                   1                 736\n",
              "                          2                 171\n",
              "Unknown                   1               14275\n",
              "                          2                 816\n",
              "Name: SEVERITYCODE, dtype: int64"
            ]
          },
          "metadata": {
            "tags": []
          },
          "execution_count": 66
        }
      ]
    },
    {
      "cell_type": "code",
      "metadata": {
        "id": "dUpfuCCvkE05",
        "outputId": "bdf693c5-137f-462c-c915-2ac9eea33ea9",
        "colab": {
          "base_uri": "https://localhost:8080/",
          "height": 357
        }
      },
      "source": [
        "df.groupby(['ROADCOND'])['SEVERITYCODE'].value_counts()"
      ],
      "execution_count": 67,
      "outputs": [
        {
          "output_type": "execute_result",
          "data": {
            "text/plain": [
              "ROADCOND        SEVERITYCODE\n",
              "Dry             1               84446\n",
              "                2               40064\n",
              "Ice             1                 936\n",
              "                2                 273\n",
              "Oil             1                  40\n",
              "                2                  24\n",
              "Other           1                  89\n",
              "                2                  43\n",
              "Sand/Mud/Dirt   1                  52\n",
              "                2                  23\n",
              "Snow/Slush      1                 837\n",
              "                2                 167\n",
              "Standing Water  1                  85\n",
              "                2                  30\n",
              "Unknown         1               14329\n",
              "                2                 749\n",
              "Wet             1               31719\n",
              "                2               15755\n",
              "Name: SEVERITYCODE, dtype: int64"
            ]
          },
          "metadata": {
            "tags": []
          },
          "execution_count": 67
        }
      ]
    },
    {
      "cell_type": "code",
      "metadata": {
        "id": "ahIchrzQkFC2",
        "outputId": "f65079ba-ab20-4b3e-c028-bf16cb977765",
        "colab": {
          "base_uri": "https://localhost:8080/",
          "height": 357
        }
      },
      "source": [
        "df.groupby(['LIGHTCOND'])['SEVERITYCODE'].value_counts()"
      ],
      "execution_count": 68,
      "outputs": [
        {
          "output_type": "execute_result",
          "data": {
            "text/plain": [
              "LIGHTCOND                 SEVERITYCODE\n",
              "Dark - No Street Lights   1                1203\n",
              "                          2                 334\n",
              "Dark - Street Lights Off  1                 883\n",
              "                          2                 316\n",
              "Dark - Street Lights On   1               34032\n",
              "                          2               14475\n",
              "Dark - Unknown Lighting   1                   7\n",
              "                          2                   4\n",
              "Dawn                      1                1678\n",
              "                          2                 824\n",
              "Daylight                  1               77593\n",
              "                          2               38544\n",
              "Dusk                      1                3958\n",
              "                          2                1944\n",
              "Other                     1                 183\n",
              "                          2                  52\n",
              "Unknown                   1               12868\n",
              "                          2                 605\n",
              "Name: SEVERITYCODE, dtype: int64"
            ]
          },
          "metadata": {
            "tags": []
          },
          "execution_count": 68
        }
      ]
    },
    {
      "cell_type": "code",
      "metadata": {
        "id": "fVUx3ZbUudk6",
        "outputId": "40a6a1bc-8bf1-4db8-e5d2-93f0ddc259d4",
        "colab": {
          "base_uri": "https://localhost:8080/",
          "height": 405
        }
      },
      "source": [
        "f, ax=plt.subplots(figsize=(18,6))\n",
        "sns.countplot(x='LIGHTCOND', hue='SEVERITYCODE',data=df,order=df['LIGHTCOND'].value_counts().index)"
      ],
      "execution_count": 69,
      "outputs": [
        {
          "output_type": "execute_result",
          "data": {
            "text/plain": [
              "<matplotlib.axes._subplots.AxesSubplot at 0x7f1fe9101c18>"
            ]
          },
          "metadata": {
            "tags": []
          },
          "execution_count": 69
        },
        {
          "output_type": "display_data",
          "data": {
            "image/png": "[encoded data removed]",
            "text/plain": [
              "<Figure size 1296x432 with 1 Axes>"
            ]
          },
          "metadata": {
            "tags": [],
            "needs_background": "light"
          }
        }
      ]
    },
    {
      "cell_type": "code",
      "metadata": {
        "id": "T-Q-FkHfkFTt",
        "outputId": "731f142f-4ffd-4f40-8af4-d38593ca4917",
        "colab": {
          "base_uri": "https://localhost:8080/",
          "height": 119
        }
      },
      "source": [
        "df.groupby(['HITPARKEDCAR'])['SEVERITYCODE'].value_counts()"
      ],
      "execution_count": 70,
      "outputs": [
        {
          "output_type": "execute_result",
          "data": {
            "text/plain": [
              "HITPARKEDCAR  SEVERITYCODE\n",
              "N             1               129717\n",
              "              2                57740\n",
              "Y             1                 6768\n",
              "              2                  448\n",
              "Name: SEVERITYCODE, dtype: int64"
            ]
          },
          "metadata": {
            "tags": []
          },
          "execution_count": 70
        }
      ]
    },
    {
      "cell_type": "code",
      "metadata": {
        "id": "7eSCzj12x5Jz",
        "outputId": "940f8cc7-5d05-4c7d-c8af-ae2d48cf058a",
        "colab": {
          "base_uri": "https://localhost:8080/",
          "height": 350
        }
      },
      "source": [
        "sns.countplot('HITPARKEDCAR',data=df)"
      ],
      "execution_count": 72,
      "outputs": [
        {
          "output_type": "stream",
          "text": [
            "/usr/local/lib/python3.6/dist-packages/seaborn/_decorators.py:43: FutureWarning: Pass the following variable as a keyword arg: x. From version 0.12, the only valid positional argument will be `data`, and passing other arguments without an explicit keyword will result in an error or misinterpretation.\n",
            "  FutureWarning\n"
          ],
          "name": "stderr"
        },
        {
          "output_type": "execute_result",
          "data": {
            "text/plain": [
              "<matplotlib.axes._subplots.AxesSubplot at 0x7f1feb3acc50>"
            ]
          },
          "metadata": {
            "tags": []
          },
          "execution_count": 72
        },
        {
          "output_type": "display_data",
          "data": {
            "image/png": "[encoded data removed]",
            "text/plain": [
              "<Figure size 432x288 with 1 Axes>"
            ]
          },
          "metadata": {
            "tags": [],
            "needs_background": "light"
          }
        }
      ]
    },
    {
      "cell_type": "code",
      "metadata": {
        "id": "7JlA3edoyEgs"
      },
      "source": [
        "df['ADDRTYPE'].replace(to_replace=['Alley','Block','Intersection'], value=[0,1,2],inplace=True)\n",
        "df['COLLISIONTYPE'].replace(to_replace=['Rear Ended', 'Angles', 'Parked Car', 'Other', 'Sideswipe', 'Left Turn', 'Pedestrian', 'Cycles', 'Right Turn', 'Head On'], value=[0,1,2,3,4,5,6,7,8,9],inplace=True)\n",
        "df['JUNCTIONTYPE'].replace(to_replace=['Mid-Block (not related to intersection)', 'At Intersection (intersection related)', 'Mid-Block (but intersection related)', 'Driveway Junction', 'At Intersection (but not related to intersection)', 'Ramp Junction', 'Unknown'], value=[0,1,2,3,4,5,6],inplace=True)\n",
        "df['WEATHER'].replace(to_replace=['Clear', 'Raining', 'Overcast', 'Unknown', 'Snowing', 'Other', 'Fog/Smog/Smoke', 'Sleet/Hail/Freezing Rain', 'Blowing Sand/Dirt', 'Severe Crosswind','Partly Cloudy'], value=[0,1,2,3,4,5,6,7,8,9,10],inplace=True)\n",
        "df['ROADCOND'].replace(to_replace=['Dry', 'Ice', 'Oil', 'Other', 'Sand/Mud/Dirt', 'Snow/Slush', 'Standing Water', 'Unknown', 'Wet'], value=[0,1,2,3,4,5,6,7,8],inplace=True)\n",
        "df['LIGHTCOND'].replace(to_replace=['Daylight', 'Dark - Street Lights On', 'Dusk', 'Dawn', 'Dark - No Street Lights', 'Dark - Street Lights Off', 'Dark - Unknown Lighting', 'Other', 'Unknown'], value=[0,1,2,3,4,5,6,7,8],inplace=True)\n",
        "df['HITPARKEDCAR'].replace(to_replace=['Y','N'], value=[1,0],inplace=True)"
      ],
      "execution_count": 73,
      "outputs": []
    },
    {
      "cell_type": "code",
      "metadata": {
        "id": "wWs1N_nMzvu_",
        "outputId": "11de5119-0527-407b-dfd0-a58757c56c7c",
        "colab": {
          "base_uri": "https://localhost:8080/",
          "height": 204
        }
      },
      "source": [
        "features = df[['SEVERITYCODE','ADDRTYPE','JUNCTIONTYPE','COLLISIONTYPE','VEHCOUNT','PEDCYLCOUNT','PERSONCOUNT','PEDCOUNT','ROADCOND','LIGHTCOND','WEATHER','HITPARKEDCAR']]\n",
        "features.head()\n"
      ],
      "execution_count": 75,
      "outputs": [
        {
          "output_type": "execute_result",
          "data": {
            "text/html": [
              "<div>\n",
              "<style scoped>\n",
              "    .dataframe tbody tr th:only-of-type {\n",
              "        vertical-align: middle;\n",
              "    }\n",
              "\n",
              "    .dataframe tbody tr th {\n",
              "        vertical-align: top;\n",
              "    }\n",
              "\n",
              "    .dataframe thead th {\n",
              "        text-align: right;\n",
              "    }\n",
              "</style>\n",
              "<table border=\"1\" class=\"dataframe\">\n",
              "  <thead>\n",
              "    <tr style=\"text-align: right;\">\n",
              "      <th></th>\n",
              "      <th>SEVERITYCODE</th>\n",
              "      <th>ADDRTYPE</th>\n",
              "      <th>JUNCTIONTYPE</th>\n",
              "      <th>COLLISIONTYPE</th>\n",
              "      <th>VEHCOUNT</th>\n",
              "      <th>PEDCYLCOUNT</th>\n",
              "      <th>PERSONCOUNT</th>\n",
              "      <th>PEDCOUNT</th>\n",
              "      <th>ROADCOND</th>\n",
              "      <th>LIGHTCOND</th>\n",
              "      <th>WEATHER</th>\n",
              "      <th>HITPARKEDCAR</th>\n",
              "    </tr>\n",
              "  </thead>\n",
              "  <tbody>\n",
              "    <tr>\n",
              "      <th>0</th>\n",
              "      <td>2</td>\n",
              "      <td>2.0</td>\n",
              "      <td>1.0</td>\n",
              "      <td>1.0</td>\n",
              "      <td>2</td>\n",
              "      <td>0</td>\n",
              "      <td>2</td>\n",
              "      <td>0</td>\n",
              "      <td>8.0</td>\n",
              "      <td>0.0</td>\n",
              "      <td>2.0</td>\n",
              "      <td>0</td>\n",
              "    </tr>\n",
              "    <tr>\n",
              "      <th>1</th>\n",
              "      <td>1</td>\n",
              "      <td>1.0</td>\n",
              "      <td>0.0</td>\n",
              "      <td>4.0</td>\n",
              "      <td>2</td>\n",
              "      <td>0</td>\n",
              "      <td>2</td>\n",
              "      <td>0</td>\n",
              "      <td>8.0</td>\n",
              "      <td>1.0</td>\n",
              "      <td>1.0</td>\n",
              "      <td>0</td>\n",
              "    </tr>\n",
              "    <tr>\n",
              "      <th>2</th>\n",
              "      <td>1</td>\n",
              "      <td>1.0</td>\n",
              "      <td>0.0</td>\n",
              "      <td>2.0</td>\n",
              "      <td>3</td>\n",
              "      <td>0</td>\n",
              "      <td>4</td>\n",
              "      <td>0</td>\n",
              "      <td>0.0</td>\n",
              "      <td>0.0</td>\n",
              "      <td>2.0</td>\n",
              "      <td>0</td>\n",
              "    </tr>\n",
              "    <tr>\n",
              "      <th>3</th>\n",
              "      <td>1</td>\n",
              "      <td>1.0</td>\n",
              "      <td>0.0</td>\n",
              "      <td>3.0</td>\n",
              "      <td>3</td>\n",
              "      <td>0</td>\n",
              "      <td>3</td>\n",
              "      <td>0</td>\n",
              "      <td>0.0</td>\n",
              "      <td>0.0</td>\n",
              "      <td>0.0</td>\n",
              "      <td>0</td>\n",
              "    </tr>\n",
              "    <tr>\n",
              "      <th>4</th>\n",
              "      <td>2</td>\n",
              "      <td>2.0</td>\n",
              "      <td>1.0</td>\n",
              "      <td>1.0</td>\n",
              "      <td>2</td>\n",
              "      <td>0</td>\n",
              "      <td>2</td>\n",
              "      <td>0</td>\n",
              "      <td>8.0</td>\n",
              "      <td>0.0</td>\n",
              "      <td>1.0</td>\n",
              "      <td>0</td>\n",
              "    </tr>\n",
              "  </tbody>\n",
              "</table>\n",
              "</div>"
            ],
            "text/plain": [
              "   SEVERITYCODE  ADDRTYPE  JUNCTIONTYPE  COLLISIONTYPE  VEHCOUNT  PEDCYLCOUNT  \\\n",
              "0             2       2.0           1.0            1.0         2            0   \n",
              "1             1       1.0           0.0            4.0         2            0   \n",
              "2             1       1.0           0.0            2.0         3            0   \n",
              "3             1       1.0           0.0            3.0         3            0   \n",
              "4             2       2.0           1.0            1.0         2            0   \n",
              "\n",
              "   PERSONCOUNT  PEDCOUNT  ROADCOND  LIGHTCOND  WEATHER  HITPARKEDCAR  \n",
              "0            2         0       8.0        0.0      2.0             0  \n",
              "1            2         0       8.0        1.0      1.0             0  \n",
              "2            4         0       0.0        0.0      2.0             0  \n",
              "3            3         0       0.0        0.0      0.0             0  \n",
              "4            2         0       8.0        0.0      1.0             0  "
            ]
          },
          "metadata": {
            "tags": []
          },
          "execution_count": 75
        }
      ]
    },
    {
      "cell_type": "code",
      "metadata": {
        "id": "vTQwW0jPz7ND",
        "outputId": "a48f8f58-61a8-4f0f-9d44-55afd39c38c8",
        "colab": {
          "base_uri": "https://localhost:8080/",
          "height": 238
        }
      },
      "source": [
        "features.isna().sum()"
      ],
      "execution_count": 77,
      "outputs": [
        {
          "output_type": "execute_result",
          "data": {
            "text/plain": [
              "SEVERITYCODE        0\n",
              "ADDRTYPE         1926\n",
              "JUNCTIONTYPE     6329\n",
              "COLLISIONTYPE    4904\n",
              "VEHCOUNT            0\n",
              "PEDCYLCOUNT         0\n",
              "PERSONCOUNT         0\n",
              "PEDCOUNT            0\n",
              "ROADCOND         5012\n",
              "LIGHTCOND        5170\n",
              "WEATHER          5081\n",
              "HITPARKEDCAR        0\n",
              "dtype: int64"
            ]
          },
          "metadata": {
            "tags": []
          },
          "execution_count": 77
        }
      ]
    },
    {
      "cell_type": "code",
      "metadata": {
        "id": "Cp8W7OgHz_19",
        "outputId": "db97bdc1-bdc2-4cdb-fe01-3d963999530d",
        "colab": {
          "base_uri": "https://localhost:8080/",
          "height": 102
        }
      },
      "source": [
        "features.dropna(inplace=True)"
      ],
      "execution_count": 78,
      "outputs": [
        {
          "output_type": "stream",
          "text": [
            "/usr/local/lib/python3.6/dist-packages/ipykernel_launcher.py:1: SettingWithCopyWarning: \n",
            "A value is trying to be set on a copy of a slice from a DataFrame\n",
            "\n",
            "See the caveats in the documentation: https://pandas.pydata.org/pandas-docs/stable/user_guide/indexing.html#returning-a-view-versus-a-copy\n",
            "  \"\"\"Entry point for launching an IPython kernel.\n"
          ],
          "name": "stderr"
        }
      ]
    },
    {
      "cell_type": "code",
      "metadata": {
        "id": "CnEl2xnK0PVs",
        "outputId": "3bcb2b30-3ea3-4507-be0f-f2df137efd09",
        "colab": {
          "base_uri": "https://localhost:8080/",
          "height": 238
        }
      },
      "source": [
        "features.isna().sum()"
      ],
      "execution_count": 79,
      "outputs": [
        {
          "output_type": "execute_result",
          "data": {
            "text/plain": [
              "SEVERITYCODE     0\n",
              "ADDRTYPE         0\n",
              "JUNCTIONTYPE     0\n",
              "COLLISIONTYPE    0\n",
              "VEHCOUNT         0\n",
              "PEDCYLCOUNT      0\n",
              "PERSONCOUNT      0\n",
              "PEDCOUNT         0\n",
              "ROADCOND         0\n",
              "LIGHTCOND        0\n",
              "WEATHER          0\n",
              "HITPARKEDCAR     0\n",
              "dtype: int64"
            ]
          },
          "metadata": {
            "tags": []
          },
          "execution_count": 79
        }
      ]
    },
    {
      "cell_type": "code",
      "metadata": {
        "id": "DHd_ZX1C0VAz",
        "outputId": "0952bed0-0a97-4ba4-dc3e-4eef83c00552",
        "colab": {
          "base_uri": "https://localhost:8080/",
          "height": 51
        }
      },
      "source": [
        "print(\"Rows:\", features.shape[0])\n",
        "print(\"Columns:\", features.shape[1])"
      ],
      "execution_count": 80,
      "outputs": [
        {
          "output_type": "stream",
          "text": [
            "Rows: 182895\n",
            "Columns: 12\n"
          ],
          "name": "stdout"
        }
      ]
    },
    {
      "cell_type": "code",
      "metadata": {
        "id": "51NB4JYc0bLZ",
        "outputId": "5394950c-6ef1-45c6-b30a-313e7bd83c93",
        "colab": {
          "base_uri": "https://localhost:8080/",
          "height": 238
        }
      },
      "source": [
        "features.dtypes"
      ],
      "execution_count": 81,
      "outputs": [
        {
          "output_type": "execute_result",
          "data": {
            "text/plain": [
              "SEVERITYCODE       int64\n",
              "ADDRTYPE         float64\n",
              "JUNCTIONTYPE     float64\n",
              "COLLISIONTYPE    float64\n",
              "VEHCOUNT           int64\n",
              "PEDCYLCOUNT        int64\n",
              "PERSONCOUNT        int64\n",
              "PEDCOUNT           int64\n",
              "ROADCOND         float64\n",
              "LIGHTCOND        float64\n",
              "WEATHER          float64\n",
              "HITPARKEDCAR       int64\n",
              "dtype: object"
            ]
          },
          "metadata": {
            "tags": []
          },
          "execution_count": 81
        }
      ]
    },
    {
      "cell_type": "code",
      "metadata": {
        "id": "D_ALWmAz0cwf",
        "outputId": "274edd8a-b3ca-4490-bad1-4d327af2cfb2",
        "colab": {
          "base_uri": "https://localhost:8080/",
          "height": 85
        }
      },
      "source": [
        "features.columns"
      ],
      "execution_count": 82,
      "outputs": [
        {
          "output_type": "execute_result",
          "data": {
            "text/plain": [
              "Index(['SEVERITYCODE', 'ADDRTYPE', 'JUNCTIONTYPE', 'COLLISIONTYPE', 'VEHCOUNT',\n",
              "       'PEDCYLCOUNT', 'PERSONCOUNT', 'PEDCOUNT', 'ROADCOND', 'LIGHTCOND',\n",
              "       'WEATHER', 'HITPARKEDCAR'],\n",
              "      dtype='object')"
            ]
          },
          "metadata": {
            "tags": []
          },
          "execution_count": 82
        }
      ]
    },
    {
      "cell_type": "code",
      "metadata": {
        "id": "d-cp9NoY0iPj"
      },
      "source": [
        "X=features[['ADDRTYPE', 'JUNCTIONTYPE', 'COLLISIONTYPE', 'VEHCOUNT',\n",
        "       'PEDCYLCOUNT', 'PERSONCOUNT', 'PEDCOUNT', 'ROADCOND', 'LIGHTCOND',\n",
        "       'WEATHER', 'HITPARKEDCAR']]\n",
        "y=features['SEVERITYCODE']       "
      ],
      "execution_count": 84,
      "outputs": []
    },
    {
      "cell_type": "code",
      "metadata": {
        "id": "gos87pzh043c",
        "outputId": "dba0239a-024e-4b16-f3fe-79ae2fc3a291",
        "colab": {
          "base_uri": "https://localhost:8080/",
          "height": 34
        }
      },
      "source": [
        "X.shape"
      ],
      "execution_count": 85,
      "outputs": [
        {
          "output_type": "execute_result",
          "data": {
            "text/plain": [
              "(182895, 11)"
            ]
          },
          "metadata": {
            "tags": []
          },
          "execution_count": 85
        }
      ]
    },
    {
      "cell_type": "code",
      "metadata": {
        "id": "WxaetP3_06Bs",
        "outputId": "18fafa99-8a9d-4bae-a498-d8ac204b8bc5",
        "colab": {
          "base_uri": "https://localhost:8080/",
          "height": 34
        }
      },
      "source": [
        "y.shape"
      ],
      "execution_count": 86,
      "outputs": [
        {
          "output_type": "execute_result",
          "data": {
            "text/plain": [
              "(182895,)"
            ]
          },
          "metadata": {
            "tags": []
          },
          "execution_count": 86
        }
      ]
    },
    {
      "cell_type": "code",
      "metadata": {
        "id": "HcU4Hpiz07I5"
      },
      "source": [
        "from sklearn import preprocessing\n",
        "from sklearn.model_selection import train_test_split\n",
        "from sklearn.neighbors import KNeighborsClassifier\n",
        "from sklearn.tree import DecisionTreeClassifier\n",
        "from sklearn.linear_model import LogisticRegression\n",
        "from sklearn import metrics\n",
        "from sklearn.metrics import f1_score\n",
        "from sklearn.metrics import jaccard_similarity_score\n",
        "from sklearn.metrics import log_loss"
      ],
      "execution_count": 87,
      "outputs": []
    },
    {
      "cell_type": "markdown",
      "metadata": {
        "id": "S-AoROsx1tZR"
      },
      "source": [
        "Normalizing the Data set"
      ]
    },
    {
      "cell_type": "code",
      "metadata": {
        "id": "vNcYd43L1IiY"
      },
      "source": [
        "X=preprocessing.StandardScaler().fit(X).transform(X)"
      ],
      "execution_count": 92,
      "outputs": []
    },
    {
      "cell_type": "code",
      "metadata": {
        "id": "4PWxIFio1iNy"
      },
      "source": [
        "X_train,X_test,y_train,y_test=train_test_split(X,y,test_size=0.2,random_state=4)"
      ],
      "execution_count": 93,
      "outputs": []
    },
    {
      "cell_type": "code",
      "metadata": {
        "id": "cvade-Mp2IVT",
        "outputId": "e7f2410e-c80f-4687-9d9c-b0ccbb71a785",
        "colab": {
          "base_uri": "https://localhost:8080/",
          "height": 51
        }
      },
      "source": [
        "print('Train set:',X_train.shape,y_train.shape)\n",
        "print('Test set:',X_test.shape,y_test.shape)"
      ],
      "execution_count": 95,
      "outputs": [
        {
          "output_type": "stream",
          "text": [
            "Train set: (146316, 11) (146316,)\n",
            "Test set: (36579, 11) (36579,)\n"
          ],
          "name": "stdout"
        }
      ]
    },
    {
      "cell_type": "markdown",
      "metadata": {
        "id": "sxQ8PvE3Boxo"
      },
      "source": [
        "# **Modeling**\n",
        "\n",
        "## K Nearest Neighbor"
      ]
    },
    {
      "cell_type": "code",
      "metadata": {
        "id": "trv0t4IC2Y68",
        "outputId": "60964b8f-e145-4492-f0a6-a3c54eaa09ca",
        "colab": {
          "base_uri": "https://localhost:8080/",
          "height": 119
        }
      },
      "source": [
        "Ks = 30\n",
        "mean_acc = np.zeros((Ks-1))\n",
        "std_acc = np.zeros((Ks-1))\n",
        "for n in range(1,Ks):\n",
        "    \n",
        "    #Train Model and Predict  \n",
        "    neigh = KNeighborsClassifier(n_neighbors = n).fit(X_train,y_train)\n",
        "    yhat=neigh.predict(X_test)\n",
        "    mean_acc[n-1] = metrics.accuracy_score(y_test, yhat)\n",
        "\n",
        "    \n",
        "    std_acc[n-1]=np.std(yhat==y_test)/np.sqrt(yhat.shape[0])\n",
        "\n",
        "mean_acc"
      ],
      "execution_count": 96,
      "outputs": [
        {
          "output_type": "execute_result",
          "data": {
            "text/plain": [
              "array([0.68924793, 0.71084502, 0.70403784, 0.72615435, 0.72301047,\n",
              "       0.72842341, 0.71595724, 0.7256896 , 0.71841767, 0.73438312,\n",
              "       0.72287378, 0.72973564, 0.72525219, 0.73184067, 0.72612701,\n",
              "       0.73189535, 0.73123924, 0.73812843, 0.73525793, 0.73687088,\n",
              "       0.73678887, 0.73955002, 0.7377457 , 0.73952268, 0.73837448,\n",
              "       0.73796441, 0.73599606, 0.73766369, 0.73648815])"
            ]
          },
          "metadata": {
            "tags": []
          },
          "execution_count": 96
        }
      ]
    },
    {
      "cell_type": "code",
      "metadata": {
        "id": "HrIxcs732tgh",
        "outputId": "d9d84c86-1c3d-4d38-c545-a78ca4af0799",
        "colab": {
          "base_uri": "https://localhost:8080/",
          "height": 297
        }
      },
      "source": [
        "plt.plot(range(1,Ks),mean_acc,'g')\n",
        "plt.fill_between(range(1,Ks),mean_acc - 1 * std_acc,mean_acc + 1 * std_acc, alpha=0.10)\n",
        "plt.legend(('Accuracy ', '+/- 3xstd'))\n",
        "plt.ylabel('Accuracy ')\n",
        "plt.xlabel('Number of Nabors (K)')\n",
        "plt.tight_layout()\n",
        "plt.show()"
      ],
      "execution_count": 97,
      "outputs": [
        {
          "output_type": "display_data",
          "data": {
            "image/png": "[encoded data removed]",
            "text/plain": [
              "<Figure size 432x288 with 1 Axes>"
            ]
          },
          "metadata": {
            "tags": [],
            "needs_background": "light"
          }
        }
      ]
    },
    {
      "cell_type": "code",
      "metadata": {
        "id": "1mm7vbyl242N",
        "outputId": "a85250cd-020e-4c8c-e435-57e959b4ad50",
        "colab": {
          "base_uri": "https://localhost:8080/",
          "height": 34
        }
      },
      "source": [
        "print( \"The best accuracy was with\", mean_acc.max(), \"with k=\", mean_acc.argmax()+1) "
      ],
      "execution_count": 98,
      "outputs": [
        {
          "output_type": "stream",
          "text": [
            "The best accuracy was with 0.7395500150359496 with k= 22\n"
          ],
          "name": "stdout"
        }
      ]
    },
    {
      "cell_type": "code",
      "metadata": {
        "id": "h20Abpsp3A34",
        "outputId": "109bb50a-13ca-4433-c09d-d911460b32c7",
        "colab": {
          "base_uri": "https://localhost:8080/",
          "height": 105
        }
      },
      "source": [
        "k = 24\n",
        "#Train Model and Predict  \n",
        "neigh_knn = KNeighborsClassifier(n_neighbors = k).fit(X_train,y_train)\n",
        "yhat_neigh = neigh_knn.predict(X_test)\n",
        "from sklearn.metrics import f1_score\n",
        "from sklearn.metrics import jaccard_similarity_score\n",
        "print(\"Avg F1-score: %.2f\" % f1_score(y_test, yhat_neigh, average='weighted'))\n",
        "print(\"Jaccard score: %.2f\" % jaccard_similarity_score(y_test, yhat_neigh))"
      ],
      "execution_count": 99,
      "outputs": [
        {
          "output_type": "stream",
          "text": [
            "Avg F1-score: 0.71\n",
            "Jaccard score: 0.74\n"
          ],
          "name": "stdout"
        },
        {
          "output_type": "stream",
          "text": [
            "/usr/local/lib/python3.6/dist-packages/sklearn/metrics/_classification.py:664: FutureWarning: jaccard_similarity_score has been deprecated and replaced with jaccard_score. It will be removed in version 0.23. This implementation has surprising behavior for binary and multiclass classification tasks.\n",
            "  FutureWarning)\n"
          ],
          "name": "stderr"
        }
      ]
    },
    {
      "cell_type": "markdown",
      "metadata": {
        "id": "QroaccIECKA1"
      },
      "source": [
        "## Decision Tree"
      ]
    },
    {
      "cell_type": "code",
      "metadata": {
        "id": "i5AQnuQW3DwJ",
        "outputId": "72f5fa46-0ca0-4273-be6c-1305ee2466f7",
        "colab": {
          "base_uri": "https://localhost:8080/",
          "height": 751
        }
      },
      "source": [
        "depths = 20\n",
        "avg_f1_tree = np.zeros((depths-1))\n",
        "jaccard_index_tree = np.zeros((depths-1))\n",
        "for n in range(1,depths):\n",
        "    #Train Model and Predict  \n",
        "    carTree = DecisionTreeClassifier(criterion=\"entropy\", max_depth = n)\n",
        "    carTree.fit(X_train, y_train)\n",
        "    yhat_tree = carTree.predict(X_test)\n",
        "    avg_f1_tree[n-1] = f1_score(y_test, yhat_tree, average='weighted')\n",
        "    jaccard_index_tree[n-1]=jaccard_similarity_score(y_test, yhat_tree)\n",
        "    \n",
        "    \n",
        "#carTree = DecisionTreeClassifier(criterion=\"entropy\", max_depth = 4)\n",
        "#carTree\n",
        "avg_f1_tree"
      ],
      "execution_count": 100,
      "outputs": [
        {
          "output_type": "stream",
          "text": [
            "/usr/local/lib/python3.6/dist-packages/sklearn/metrics/_classification.py:664: FutureWarning: jaccard_similarity_score has been deprecated and replaced with jaccard_score. It will be removed in version 0.23. This implementation has surprising behavior for binary and multiclass classification tasks.\n",
            "  FutureWarning)\n",
            "/usr/local/lib/python3.6/dist-packages/sklearn/metrics/_classification.py:664: FutureWarning: jaccard_similarity_score has been deprecated and replaced with jaccard_score. It will be removed in version 0.23. This implementation has surprising behavior for binary and multiclass classification tasks.\n",
            "  FutureWarning)\n",
            "/usr/local/lib/python3.6/dist-packages/sklearn/metrics/_classification.py:664: FutureWarning: jaccard_similarity_score has been deprecated and replaced with jaccard_score. It will be removed in version 0.23. This implementation has surprising behavior for binary and multiclass classification tasks.\n",
            "  FutureWarning)\n",
            "/usr/local/lib/python3.6/dist-packages/sklearn/metrics/_classification.py:664: FutureWarning: jaccard_similarity_score has been deprecated and replaced with jaccard_score. It will be removed in version 0.23. This implementation has surprising behavior for binary and multiclass classification tasks.\n",
            "  FutureWarning)\n",
            "/usr/local/lib/python3.6/dist-packages/sklearn/metrics/_classification.py:664: FutureWarning: jaccard_similarity_score has been deprecated and replaced with jaccard_score. It will be removed in version 0.23. This implementation has surprising behavior for binary and multiclass classification tasks.\n",
            "  FutureWarning)\n",
            "/usr/local/lib/python3.6/dist-packages/sklearn/metrics/_classification.py:664: FutureWarning: jaccard_similarity_score has been deprecated and replaced with jaccard_score. It will be removed in version 0.23. This implementation has surprising behavior for binary and multiclass classification tasks.\n",
            "  FutureWarning)\n",
            "/usr/local/lib/python3.6/dist-packages/sklearn/metrics/_classification.py:664: FutureWarning: jaccard_similarity_score has been deprecated and replaced with jaccard_score. It will be removed in version 0.23. This implementation has surprising behavior for binary and multiclass classification tasks.\n",
            "  FutureWarning)\n",
            "/usr/local/lib/python3.6/dist-packages/sklearn/metrics/_classification.py:664: FutureWarning: jaccard_similarity_score has been deprecated and replaced with jaccard_score. It will be removed in version 0.23. This implementation has surprising behavior for binary and multiclass classification tasks.\n",
            "  FutureWarning)\n",
            "/usr/local/lib/python3.6/dist-packages/sklearn/metrics/_classification.py:664: FutureWarning: jaccard_similarity_score has been deprecated and replaced with jaccard_score. It will be removed in version 0.23. This implementation has surprising behavior for binary and multiclass classification tasks.\n",
            "  FutureWarning)\n",
            "/usr/local/lib/python3.6/dist-packages/sklearn/metrics/_classification.py:664: FutureWarning: jaccard_similarity_score has been deprecated and replaced with jaccard_score. It will be removed in version 0.23. This implementation has surprising behavior for binary and multiclass classification tasks.\n",
            "  FutureWarning)\n",
            "/usr/local/lib/python3.6/dist-packages/sklearn/metrics/_classification.py:664: FutureWarning: jaccard_similarity_score has been deprecated and replaced with jaccard_score. It will be removed in version 0.23. This implementation has surprising behavior for binary and multiclass classification tasks.\n",
            "  FutureWarning)\n",
            "/usr/local/lib/python3.6/dist-packages/sklearn/metrics/_classification.py:664: FutureWarning: jaccard_similarity_score has been deprecated and replaced with jaccard_score. It will be removed in version 0.23. This implementation has surprising behavior for binary and multiclass classification tasks.\n",
            "  FutureWarning)\n",
            "/usr/local/lib/python3.6/dist-packages/sklearn/metrics/_classification.py:664: FutureWarning: jaccard_similarity_score has been deprecated and replaced with jaccard_score. It will be removed in version 0.23. This implementation has surprising behavior for binary and multiclass classification tasks.\n",
            "  FutureWarning)\n",
            "/usr/local/lib/python3.6/dist-packages/sklearn/metrics/_classification.py:664: FutureWarning: jaccard_similarity_score has been deprecated and replaced with jaccard_score. It will be removed in version 0.23. This implementation has surprising behavior for binary and multiclass classification tasks.\n",
            "  FutureWarning)\n",
            "/usr/local/lib/python3.6/dist-packages/sklearn/metrics/_classification.py:664: FutureWarning: jaccard_similarity_score has been deprecated and replaced with jaccard_score. It will be removed in version 0.23. This implementation has surprising behavior for binary and multiclass classification tasks.\n",
            "  FutureWarning)\n",
            "/usr/local/lib/python3.6/dist-packages/sklearn/metrics/_classification.py:664: FutureWarning: jaccard_similarity_score has been deprecated and replaced with jaccard_score. It will be removed in version 0.23. This implementation has surprising behavior for binary and multiclass classification tasks.\n",
            "  FutureWarning)\n",
            "/usr/local/lib/python3.6/dist-packages/sklearn/metrics/_classification.py:664: FutureWarning: jaccard_similarity_score has been deprecated and replaced with jaccard_score. It will be removed in version 0.23. This implementation has surprising behavior for binary and multiclass classification tasks.\n",
            "  FutureWarning)\n",
            "/usr/local/lib/python3.6/dist-packages/sklearn/metrics/_classification.py:664: FutureWarning: jaccard_similarity_score has been deprecated and replaced with jaccard_score. It will be removed in version 0.23. This implementation has surprising behavior for binary and multiclass classification tasks.\n",
            "  FutureWarning)\n",
            "/usr/local/lib/python3.6/dist-packages/sklearn/metrics/_classification.py:664: FutureWarning: jaccard_similarity_score has been deprecated and replaced with jaccard_score. It will be removed in version 0.23. This implementation has surprising behavior for binary and multiclass classification tasks.\n",
            "  FutureWarning)\n"
          ],
          "name": "stderr"
        },
        {
          "output_type": "execute_result",
          "data": {
            "text/plain": [
              "array([0.66910604, 0.66933358, 0.66933358, 0.70171044, 0.69438879,\n",
              "       0.70312548, 0.70541613, 0.70477081, 0.71293068, 0.71201796,\n",
              "       0.71151916, 0.71313149, 0.71236905, 0.71166807, 0.71046709,\n",
              "       0.71071629, 0.71029592, 0.71057393, 0.70897701])"
            ]
          },
          "metadata": {
            "tags": []
          },
          "execution_count": 100
        }
      ]
    },
    {
      "cell_type": "code",
      "metadata": {
        "id": "SgG3mJBV3gAK",
        "outputId": "a34dee53-f253-4b87-87d4-0eb3b20c789c",
        "colab": {
          "base_uri": "https://localhost:8080/",
          "height": 85
        }
      },
      "source": [
        "jaccard_index_tree"
      ],
      "execution_count": 101,
      "outputs": [
        {
          "output_type": "execute_result",
          "data": {
            "text/plain": [
              "array([0.7251155 , 0.73610542, 0.73610542, 0.74433418, 0.74389677,\n",
              "       0.74594713, 0.74613849, 0.74671259, 0.74567375, 0.74567375,\n",
              "       0.74504497, 0.74389677, 0.74340469, 0.74436152, 0.74359605,\n",
              "       0.7426939 , 0.74181908, 0.74116296, 0.74045217])"
            ]
          },
          "metadata": {
            "tags": []
          },
          "execution_count": 101
        }
      ]
    },
    {
      "cell_type": "code",
      "metadata": {
        "id": "V7P1vMzf3mNa",
        "outputId": "c2412a41-3b51-4bf2-9533-94dd09d1b387",
        "colab": {
          "base_uri": "https://localhost:8080/",
          "height": 34
        }
      },
      "source": [
        "print( \"The best accuracy was with\", avg_f1_tree.max(), \"with depth=\", avg_f1_tree.argmax()+1)"
      ],
      "execution_count": 102,
      "outputs": [
        {
          "output_type": "stream",
          "text": [
            "The best accuracy was with 0.7131314928483622 with depth= 12\n"
          ],
          "name": "stdout"
        }
      ]
    },
    {
      "cell_type": "code",
      "metadata": {
        "id": "h-DrRl3y3p--",
        "outputId": "f4a27a6d-6966-4744-b3a0-478007f18e79",
        "colab": {
          "base_uri": "https://localhost:8080/",
          "height": 51
        }
      },
      "source": [
        "print(\"Avg F1-score: %.4f\" % avg_f1_tree[11])\n",
        "print(\"Jaccard index: %.4f\" % jaccard_index_tree[11])"
      ],
      "execution_count": 103,
      "outputs": [
        {
          "output_type": "stream",
          "text": [
            "Avg F1-score: 0.7131\n",
            "Jaccard index: 0.7439\n"
          ],
          "name": "stdout"
        }
      ]
    }
  ]
}